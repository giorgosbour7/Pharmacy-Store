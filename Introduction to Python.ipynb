{
 "cells": [
  {
   "cell_type": "markdown",
   "id": "43209722-404a-496a-8e40-b4ea5344bcb3",
   "metadata": {},
   "source": [
    "# Introduction to Python"
   ]
  },
  {
   "cell_type": "markdown",
   "id": "5be9f7ab-cb28-4d0a-8c09-595d8ed42e2a",
   "metadata": {},
   "source": [
    "## Pharmacy Inventory Management System"
   ]
  },
  {
   "cell_type": "markdown",
   "id": "673f3c4c-ad8d-40ab-93fd-72c0850c3942",
   "metadata": {},
   "source": [
    "In this exercise, you will develop a simple Pharmacy Inventory Management System from scratch using Python. The system will allow users to manage medications by adding, viewing, updating, and deleting information. You will use Python's data structures like lists, dictionaries, and tuples to store medication data and apply basic programming concepts.\n"
   ]
  },
  {
   "cell_type": "code",
   "execution_count": 1,
   "id": "83fa9c78-b865-4e18-8969-4557e7ded092",
   "metadata": {},
   "outputs": [],
   "source": [
    "# Function to add a new medication\n",
    "def add_med(med_list,inventory,category,name,price,quantity,exp_date,):\n",
    "    if name not in med_list:\n",
    "        med_list.append(name)\n",
    "        inventory[name]=(price,quantity,exp_date)\n",
    "        print(f\"{name} added...\")"
   ]
  },
  {
   "cell_type": "code",
   "execution_count": 2,
   "id": "1d88c0c1-f421-4e09-999c-004c32a11978",
   "metadata": {},
   "outputs": [],
   "source": [
    "# Function to view all medications\n",
    "def view_meds(meds):\n",
    "    if meds:\n",
    "        for med,details in meds.items():\n",
    "            print(f'Medication:{med} - Price : ${details[0]} ,Quantity : {details[1]} , Expiration: {details[2]}')\n",
    "        "
   ]
  },
  {
   "cell_type": "code",
   "execution_count": 3,
   "id": "4fc275ad-9398-474a-a9c9-e5cb23c1d4ed",
   "metadata": {},
   "outputs": [],
   "source": [
    "# Function to get details of a specific medication\n"
   ]
  },
  {
   "cell_type": "code",
   "execution_count": 4,
   "id": "f7a5d328-9c99-4f3b-9708-200464b82d21",
   "metadata": {},
   "outputs": [],
   "source": [
    "# Function to update medication quantity\n"
   ]
  },
  {
   "cell_type": "code",
   "execution_count": 5,
   "id": "d764649f-d39a-4636-bed6-d5c36eaff164",
   "metadata": {},
   "outputs": [],
   "source": [
    "# Function to remove a medication\n"
   ]
  },
  {
   "cell_type": "code",
   "execution_count": 6,
   "id": "2d275e00-3fa7-41f9-a4d7-b3514a8d803a",
   "metadata": {},
   "outputs": [],
   "source": [
    "# Function to update expiration date\n"
   ]
  },
  {
   "cell_type": "code",
   "execution_count": 7,
   "id": "0f63fbac-c97d-46d7-a2e9-c4fa44eee015",
   "metadata": {},
   "outputs": [],
   "source": [
    "# Function to check stock of a medication\n"
   ]
  },
  {
   "cell_type": "code",
   "execution_count": 8,
   "id": "762b49f7-cb2f-4d63-835d-5ea7fc125277",
   "metadata": {},
   "outputs": [],
   "source": [
    "# Function to sort medications by price\n"
   ]
  },
  {
   "cell_type": "code",
   "execution_count": null,
   "id": "bd39c36d",
   "metadata": {},
   "outputs": [],
   "source": []
  },
  {
   "cell_type": "code",
   "execution_count": null,
   "id": "fd0166ec",
   "metadata": {},
   "outputs": [],
   "source": []
  },
  {
   "cell_type": "code",
   "execution_count": null,
   "id": "7449f630",
   "metadata": {},
   "outputs": [],
   "source": []
  },
  {
   "cell_type": "code",
   "execution_count": null,
   "id": "3a7c7cde",
   "metadata": {},
   "outputs": [],
   "source": []
  },
  {
   "cell_type": "code",
   "execution_count": 9,
   "id": "511ce348-7314-4b9d-aabc-7fc17b89a9df",
   "metadata": {},
   "outputs": [
    {
     "name": "stdout",
     "output_type": "stream",
     "text": [
      "<class 'str'>\n",
      "<class 'int'>\n"
     ]
    }
   ],
   "source": [
    "# Main Program\n",
    "def main():\n",
    "    # company's data\n",
    "    company_name='City Pharma'\n",
    "    print(type(company_name))\n",
    "    \n",
    "    company_name=10\n",
    "    print(type(company_name))\n",
    "    \n",
    "\n",
    "if __name__ == \"__main__\":\n",
    "    main()\n"
   ]
  },
  {
   "cell_type": "code",
   "execution_count": null,
   "id": "aaa70401",
   "metadata": {},
   "outputs": [
    {
     "name": "stdout",
     "output_type": "stream",
     "text": [
      "['Aspirine', 'Ibuprofen', 'Paracetamol']\n",
      "{'Antipyretics', 'Antibiotics', 'Painkillers'}\n",
      "('PharmaSupply Co', '1234 Pharma Str.', 'info@supply.com')\n",
      "\n",
      "Main Menu:\n",
      "1. View All Medications\n",
      "2. Add New Medication\n",
      "3. Get Medication Details\n",
      "4. Update Medication Quantity\n",
      "5. Add New Category\n",
      "6. Remove Medication\n",
      "7. Update Medication Expiration Date\n",
      "8. Check Medication Stock\n",
      "9. Sort Medications by Price\n",
      "0. Exit\n",
      "Choose an input2\n",
      "Enter the name!NameDrop\n",
      "Enter the price!8.99\n",
      "Enter the quantity!40\n",
      "Enter the expiration date!2024-05-01\n",
      "NameDrop added...\n",
      "\n",
      "Main Menu:\n",
      "1. View All Medications\n",
      "2. Add New Medication\n",
      "3. Get Medication Details\n",
      "4. Update Medication Quantity\n",
      "5. Add New Category\n",
      "6. Remove Medication\n",
      "7. Update Medication Expiration Date\n",
      "8. Check Medication Stock\n",
      "9. Sort Medications by Price\n",
      "0. Exit\n"
     ]
    }
   ],
   "source": [
    "    # List of medications\n",
    "    medications=[\"Aspirine\",\"Ibuprofen\",\"Paracetamol\"]\n",
    "    print(medications)\n",
    "\n",
    "    # Dictionary for pharmacy inventory with tuples (price, quantity, expiration)\n",
    "    inventory={\n",
    "        \"Aspirin\":(5.99,50,\"2024-12-01\"),\n",
    "        \"Ibuprofen\":(8.99,100,\"2024-05-15\"),\n",
    "        \"Paracetamol\":(12.99,120,\"2024-1-15\")\n",
    "\n",
    "    }\n",
    "    \n",
    "\n",
    "    # Set of medication categories\n",
    "\n",
    "    categories={\"Painkillers\",\"Antibiotics\",\"Antipyretics\"}\n",
    "    print(categories)\n",
    "\n",
    "    # Tuple storing supplier information (immutable data)\n",
    "\n",
    "    supplier_info=(\"PharmaSupply Co\",\"1234 Pharma Str.\",\"info@supply.com\")\n",
    "    print(supplier_info)\n",
    "    \n",
    "    while True:\n",
    "\n",
    "        print(\"\\nMain Menu:\")\n",
    "        print(\"1. View All Medications\")\n",
    "        print(\"2. Add New Medication\")\n",
    "        print(\"3. Get Medication Details\")\n",
    "        print(\"4. Update Medication Quantity\")\n",
    "        print(\"5. Add New Category\")\n",
    "        print(\"6. Remove Medication\")\n",
    "        print(\"7. Update Medication Expiration Date\")\n",
    "        print(\"8. Check Medication Stock\")\n",
    "        print(\"9. Sort Medications by Price\")\n",
    "        print(\"0. Exit\")\n",
    "\n",
    "\n",
    "        choice=input('Choose an input')\n",
    "\n",
    "        if choice == '1':\n",
    "            view_meds(inventory)            \n",
    "        elif choice == '2':\n",
    "            med_name=input(\"Enter the name!\")\n",
    "            try: \n",
    "                price=float(input(\"Enter the price!\"))\n",
    "                quantity=float(input(\"Enter the quantity!\"))\n",
    "                exp_date=input(\"Enter the expiration date!\")\n",
    "                add_med(medications,inventory,categories,med_name,price,quantity,exp_date)\n",
    "            except valueInput:\n",
    "                print(f\"Invalid Input\")\n",
    "\n",
    "        # elif choice == '3':\n",
    "        #     # Get medication details\n",
    "\n",
    "        # elif choice == '4':\n",
    "        #     # Update medication quantity\n",
    "\n",
    "        # elif choice == '5':  # Add new category\n",
    "\n",
    "        # elif choice == '6':  # Remove medication\n",
    "\n",
    "        # elif choice == '7':  # Update medication expiration date\n",
    "\n",
    "        # elif choice == '8':  # Check stock of medication\n",
    "\n",
    "        # elif choice == '9':  # Sort medications by price\n",
    "        elif choice == '0':\n",
    "            print(\"Exiting the Pharmacy Program!Goodbye.\")\n",
    "            break;\n",
    "        else:\n",
    "            print(\"Invalid Choice.Try again\")\n"
   ]
  },
  {
   "cell_type": "code",
   "execution_count": null,
   "id": "78839edc",
   "metadata": {},
   "outputs": [],
   "source": []
  }
 ],
 "metadata": {
  "kernelspec": {
   "display_name": "Python 3 (ipykernel)",
   "language": "python",
   "name": "python3"
  },
  "language_info": {
   "codemirror_mode": {
    "name": "ipython",
    "version": 3
   },
   "file_extension": ".py",
   "mimetype": "text/x-python",
   "name": "python",
   "nbconvert_exporter": "python",
   "pygments_lexer": "ipython3",
   "version": "3.9.12"
  }
 },
 "nbformat": 4,
 "nbformat_minor": 5
}
